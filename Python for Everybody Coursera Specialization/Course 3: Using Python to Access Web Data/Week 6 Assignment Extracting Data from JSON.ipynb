{
 "cells": [
  {
   "cell_type": "markdown",
   "metadata": {},
   "source": [
    "### Extracting Data from JSON\n",
    "\n",
    "In this assignment you will write a Python program somewhat similar to <http://www.py4e.com/code3/json2.py>. The program will prompt for a URL, read the JSON data from that URL using urllib and then parse and extract the comment counts from the JSON data, compute the sum of the numbers in the file and enter the sum below:\n",
    "We provide two files for this assignment. One is a sample file where we give you the sum for your testing and the other is the actual data you need to process for the assignment.\n",
    "\n",
    "Sample data: <http://py4e-data.dr-chuck.net/comments_42.json> (Sum=2553)\n",
    "Actual data: <http://py4e-data.dr-chuck.net/comments_381760.json> (Sum ends with 93)\n",
    "You do not need to save these files to your folder since your program will read the data directly from the URL. Note: Each student will have a distinct data url for the assignment - so only use your own data url for analysis.\n",
    "\n",
    "### Data Format\n",
    "\n",
    "The data consists of a number of names and comment counts in JSON as follows:\n",
    "\n",
    "```\n",
    "{\n",
    "  comments: [\n",
    "    {\n",
    "      name: \"Matthias\"\n",
    "      count: 97\n",
    "    },\n",
    "    {\n",
    "      name: \"Geomer\"\n",
    "      count: 97\n",
    "    }\n",
    "    ...\n",
    "  ]\n",
    "}\n",
    "```\n",
    "The closest sample code that shows how to parse JSON and extract a list is json2.py. You might also want to look at geoxml.py to see how to prompt for a URL and retrieve data from a URL.\n",
    "\n",
    "### Sample Execution\n",
    "\n",
    "$ python3 solution.py  \n",
    "Enter location: http://py4e-data.dr-chuck.net/comments_42.json  \n",
    "Retrieving http://py4e-data.dr-chuck.net/comments_42.json  \n",
    "Retrieved 2733 characters  \n",
    "Count: 50  \n",
    "Sum: 2..."
   ]
  },
  {
   "cell_type": "code",
   "execution_count": null,
   "metadata": {},
   "outputs": [],
   "source": [
    "prompt for a URL, read the JSON data from that URL using urllib\n",
    "and then parse and extract the comment counts from the JSON data\n",
    "compute the sum of the numbers in the file and enter the sum below:\n",
    "    \n",
    "$ python3 solution.py\n",
    "Enter location: http://py4e-data.dr-chuck.net/comments_42.json\n",
    "Retrieving http://py4e-data.dr-chuck.net/comments_42.json\n",
    "Retrieved 2733 characters\n",
    "Count: 50\n",
    "Sum: 2..."
   ]
  },
  {
   "cell_type": "code",
   "execution_count": 10,
   "metadata": {},
   "outputs": [
    {
     "name": "stdout",
     "output_type": "stream",
     "text": [
      "Enter location: http://py4e-data.dr-chuck.net/comments_381760.json\n",
      "Retrieved http://py4e-data.dr-chuck.net/comments_381760.json\n",
      "Retrieved 2720\n",
      "Count: 50\n",
      "Sum: 2393\n"
     ]
    }
   ],
   "source": [
    "import json\n",
    "import urllib.request, urllib.parse, urllib.error\n",
    "\n",
    "url = input('Enter location: ')\n",
    "print('Retrieved', url)\n",
    "\n",
    "url_handle = urllib.request.urlopen(url)\n",
    "url_data = url_handle.read()\n",
    "print('Retrieved', len(url_data))\n",
    "\n",
    "# 4. Parse URL using json.loads\n",
    "data = json.loads(url_data)\n",
    "# print jsp\n",
    "\n",
    "# 5. Extract comments from dictionary using loop\n",
    "final = list()\n",
    "for x in data['comments']:\n",
    "    num = int(x['count'])\n",
    "    final.append(num)\n",
    "\n",
    "print('Count:', len(final))\n",
    "print('Sum:', sum(final))"
   ]
  }
 ],
 "metadata": {
  "kernelspec": {
   "display_name": "Python 3",
   "language": "python",
   "name": "python3"
  },
  "language_info": {
   "codemirror_mode": {
    "name": "ipython",
    "version": 3
   },
   "file_extension": ".py",
   "mimetype": "text/x-python",
   "name": "python",
   "nbconvert_exporter": "python",
   "pygments_lexer": "ipython3",
   "version": "3.7.6"
  }
 },
 "nbformat": 4,
 "nbformat_minor": 4
}

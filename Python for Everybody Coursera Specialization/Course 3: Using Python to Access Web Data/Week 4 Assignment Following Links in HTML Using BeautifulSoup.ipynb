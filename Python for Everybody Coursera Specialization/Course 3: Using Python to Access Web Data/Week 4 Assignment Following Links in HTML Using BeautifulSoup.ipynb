{
 "cells": [
  {
   "cell_type": "markdown",
   "metadata": {},
   "source": [
    "### Following Links in Python\n",
    "\n",
    "In this assignment you will write a Python program that expands on <http://www.py4e.com/code3/urllinks.py>. The program will use urllib to read the HTML from the data files below, extract the href= vaues from the anchor tags, scan for a tag that is in a particular position relative to the first name in the list, follow that link and repeat the process a number of times and report the last name you find.\n",
    "\n",
    "We provide two files for this assignment. One is a sample file where we give you the name for your testing and the other is the actual data you need to process for the assignment\n",
    "\n",
    "Sample problem: Start at <http://py4e-data.dr-chuck.net/known_by_Fikret.html>\n",
    "Find the link at position 3 (the first name is 1). Follow that link. Repeat this process 4 times. The answer is the last name that you retrieve.\n",
    "Sequence of names: Fikret Montgomery Mhairade Butchi Anayah\n",
    "Last name in sequence: Anayah\n",
    "Actual problem: Start at: <http://py4e-data.dr-chuck.net/known_by_Safa.html>\n",
    "Find the link at position 18 (the first name is 1). Follow that link. Repeat this process 7 times. The answer is the last name that you retrieve.\n",
    "Hint: The first character of the name of the last page that you will load is: D\n",
    "Strategy\n",
    "The web pages tweak the height between the links and hide the page after a few seconds to make it difficult for you to do the assignment without writing a Python program. But frankly with a little effort and patience you can overcome these attempts to make it a little harder to complete the assignment without writing a Python program. But that is not the point. The point is to write a clever Python program to solve the program.\n",
    "\n",
    "### Sample execution\n",
    "\n",
    "Here is a sample execution of a solution:\n",
    "\n",
    "$ python3 solution.py  \n",
    "Enter URL: http://py4e-data.dr-chuck.net/known_by_Fikret.html  \n",
    "Enter count: 4  \n",
    "Enter position: 3  \n",
    "Retrieving: http://py4e-data.dr-chuck.net/known_by_Fikret.html  \n",
    "Retrieving: http://py4e-data.dr-chuck.net/known_by_Montgomery.html  \n",
    "Retrieving: http://py4e-data.dr-chuck.net/known_by_Mhairade.html  \n",
    "Retrieving: http://py4e-data.dr-chuck.net/known_by_Butchi.html  \n",
    "Retrieving: http://py4e-data.dr-chuck.net/known_by_Anayah.html  \n",
    "\n",
    "The answer to the assignment for this execution is \"Darrius\"."
   ]
  },
  {
   "cell_type": "code",
   "execution_count": 6,
   "metadata": {},
   "outputs": [
    {
     "name": "stdout",
     "output_type": "stream",
     "text": [
      "Enter Url: http://py4e-data.dr-chuck.net/known_by_Safa.html\n",
      "Enter count: 7\n",
      "Enter position:18\n",
      "Retrieving:  http://py4e-data.dr-chuck.net/known_by_Dominika.html\n",
      "Retrieving:  Dominika\n",
      "Retrieving:  http://py4e-data.dr-chuck.net/known_by_Florence.html\n",
      "Retrieving:  Florence\n",
      "Retrieving:  http://py4e-data.dr-chuck.net/known_by_Gabriele.html\n",
      "Retrieving:  Gabriele\n",
      "Retrieving:  http://py4e-data.dr-chuck.net/known_by_Mayeul.html\n",
      "Retrieving:  Mayeul\n",
      "Retrieving:  http://py4e-data.dr-chuck.net/known_by_Masood.html\n",
      "Retrieving:  Masood\n",
      "Retrieving:  http://py4e-data.dr-chuck.net/known_by_Kenyon.html\n",
      "Retrieving:  Kenyon\n",
      "Retrieving:  http://py4e-data.dr-chuck.net/known_by_Darrius.html\n",
      "Retrieving:  Darrius\n"
     ]
    }
   ],
   "source": [
    "import urllib.request, urllib.parse, urllib.error\n",
    "from bs4 import BeautifulSoup\n",
    "\n",
    "url = input('Enter Url: ')\n",
    "count = int(input(\"Enter count: \"))\n",
    "position = int(input(\"Enter position:\"))\n",
    "for i in range(count):\n",
    "    html = urllib.request.urlopen(url).read()\n",
    "    soup = BeautifulSoup(html)\n",
    "\n",
    "    tags = soup('a')\n",
    "    s = []\n",
    "    t = []\n",
    "    for tag in tags:\n",
    "        x = tag.get('href', None)\n",
    "        s.append(x)\n",
    "        y = tag.text\n",
    "        t.append(y)\n",
    "    \n",
    "    print((\"Retrieving: \"), s[position-1])\n",
    "    print((\"Retrieving: \"), t[position-1])\n",
    "    url = s[position-1]"
   ]
  }
 ],
 "metadata": {
  "kernelspec": {
   "display_name": "Python 3",
   "language": "python",
   "name": "python3"
  },
  "language_info": {
   "codemirror_mode": {
    "name": "ipython",
    "version": 3
   },
   "file_extension": ".py",
   "mimetype": "text/x-python",
   "name": "python",
   "nbconvert_exporter": "python",
   "pygments_lexer": "ipython3",
   "version": "3.7.6"
  }
 },
 "nbformat": 4,
 "nbformat_minor": 2
}

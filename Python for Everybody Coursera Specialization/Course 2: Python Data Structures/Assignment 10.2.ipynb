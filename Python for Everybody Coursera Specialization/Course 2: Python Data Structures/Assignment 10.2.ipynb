{
 "cells": [
  {
   "cell_type": "markdown",
   "metadata": {},
   "source": [
    "Write a program to read through the mbox-short.txt and figure out the distribution by hour of the day for each of the messages. You can pull the hour out from the 'From ' line by finding the time and then splitting the string a second time using a colon.\n",
    "\n",
    "From stephen.marquard@uct.ac.za Sat Jan  5 09:14:16 2008\n",
    "\n",
    "Once you have accumulated the counts for each hour, print out the counts, sorted by hour as shown below."
   ]
  },
  {
   "cell_type": "markdown",
   "metadata": {},
   "source": [
    "#### Desired output:\n",
    "\n",
    "04 3  \n",
    "06 1  \n",
    "07 1  \n",
    "09 2  \n",
    "10 3  \n",
    "11 6  \n",
    "14 1  \n",
    "15 2  \n",
    "16 4  \n",
    "17 2  \n",
    "18 1  \n",
    "19 1    "
   ]
  },
  {
   "cell_type": "code",
   "execution_count": null,
   "metadata": {},
   "outputs": [],
   "source": [
    "name = input(\"Enter file:\")\n",
    "if len(name) < 1 : name = \"mbox-short.txt\"\n",
    "    \n",
    "handle = open(name)\n",
    "count = dict()\n",
    "\n",
    "for line in handle:\n",
    "    line = line.rstrip()\n",
    "    if not line.startswith(\"From \"): continue\n",
    "    line = line.split()[5]\n",
    "    time = line.split(':')\n",
    "    num = time.pop(0)\n",
    "    count[num] = count.get(num, 0) + 1\n",
    "        \n",
    "count = (sorted(count.items()))\n",
    "\n",
    "for key,val in count:\n",
    "    print(key,val)"
   ]
  }
 ],
 "metadata": {
  "kernelspec": {
   "display_name": "Python 3",
   "language": "python",
   "name": "python3"
  },
  "language_info": {
   "codemirror_mode": {
    "name": "ipython",
    "version": 3
   },
   "file_extension": ".py",
   "mimetype": "text/x-python",
   "name": "python",
   "nbconvert_exporter": "python",
   "pygments_lexer": "ipython3",
   "version": "3.7.6"
  }
 },
 "nbformat": 4,
 "nbformat_minor": 4
}

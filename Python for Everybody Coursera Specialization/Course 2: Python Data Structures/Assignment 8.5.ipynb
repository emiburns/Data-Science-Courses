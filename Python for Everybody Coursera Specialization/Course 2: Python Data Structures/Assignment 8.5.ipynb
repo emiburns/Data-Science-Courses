{
 "cells": [
  {
   "cell_type": "markdown",
   "metadata": {},
   "source": [
    "Open the file mbox-short.txt and read it line by line. When you find a line that starts with 'From ' like the following line:\n",
    "\n",
    "From stephen.marquard@uct.ac.za Sat Jan  5 09:14:16 2008\n",
    "\n",
    "You will parse the From line using split() and print out the second word in the line (i.e. the entire address of the person who sent the message). Then print out a count at the end.\n",
    "Hint: make sure not to include the lines that start with 'From:'.\n",
    "\n",
    "You can download the sample data at <http://www.py4e.com/code3/mbox-short.txt>"
   ]
  },
  {
   "cell_type": "markdown",
   "metadata": {},
   "source": [
    "#### Desired output:\n",
    "\n",
    "stephen.marquard@uct.ac.za  \n",
    "louis@media.berkeley.edu  \n",
    "zqian@umich.edu  \n",
    "rjlowe@iupui.edu  \n",
    "zqian@umich.edu  \n",
    "rjlowe@iupui.edu  \n",
    "cwen@iupui.edu  \n",
    "cwen@iupui.edu  \n",
    "gsilver@umich.edu  \n",
    "gsilver@umich.edu  \n",
    "zqian@umich.edu  \n",
    "gsilver@umich.edu  \n",
    "wagnermr@iupui.edu  \n",
    "zqian@umich.edu  \n",
    "antranig@caret.cam.ac.uk  \n",
    "gopal.ramasammycook@gmail.com  \n",
    "david.horwitz@uct.ac.za  \n",
    "david.horwitz@uct.ac.za  \n",
    "david.horwitz@uct.ac.za  \n",
    "david.horwitz@uct.ac.za  \n",
    "stephen.marquard@uct.ac.za  \n",
    "louis@media.berkeley.edu  \n",
    "louis@media.berkeley.edu  \n",
    "ray@media.berkeley.edu  \n",
    "cwen@iupui.edu  \n",
    "cwen@iupui.edu  \n",
    "cwen@iupui.edu  \n",
    "There were 27 lines in the file with From as the first word"
   ]
  },
  {
   "cell_type": "code",
   "execution_count": null,
   "metadata": {},
   "outputs": [],
   "source": [
    "fname = input(\"Enter file name: \")\n",
    "if len(fname) < 1 : fname = \"mbox-short.txt\"\n",
    "\n",
    "fh = open(fname)\n",
    "count = 0\n",
    "for line in fh:\n",
    "    line = line.rstrip()\n",
    "    if not line.startswith('From '): continue\n",
    "    email = line.split()\n",
    "    print(email[1])\n",
    "    count = count + 1\n",
    "\n",
    "print(\"There were\", count, \"lines in the file with From as the first word\")"
   ]
  }
 ],
 "metadata": {
  "kernelspec": {
   "display_name": "Python 3",
   "language": "python",
   "name": "python3"
  },
  "language_info": {
   "codemirror_mode": {
    "name": "ipython",
    "version": 3
   },
   "file_extension": ".py",
   "mimetype": "text/x-python",
   "name": "python",
   "nbconvert_exporter": "python",
   "pygments_lexer": "ipython3",
   "version": "3.7.6"
  }
 },
 "nbformat": 4,
 "nbformat_minor": 4
}
